{
 "cells": [
  {
   "cell_type": "code",
   "execution_count": 0,
   "metadata": {},
   "outputs": [],
   "source": [
    "from IPython import get_ipython\n"
   ]
  },
  {
   "cell_type": "code",
   "execution_count": 0,
   "metadata": {},
   "outputs": [],
   "source": [
    "import pandas as pd\n",
    "import numpy as np\n",
    "import matplotlib.pyplot as plt\n",
    "get_ipython().run_line_magic('matplotlib', 'inline')\n"
   ]
  },
  {
   "cell_type": "code",
   "execution_count": 0,
   "metadata": {},
   "outputs": [],
   "source": [
    "from sklearn.cluster import KMeans\n"
   ]
  },
  {
   "cell_type": "code",
   "execution_count": 0,
   "metadata": {},
   "outputs": [],
   "source": [
    "tags_genome = pd.read_csv('/datasets/genome-scores.csv')\n",
    "\n",
    "# tags_genome.head()\n",
    "\n",
    "# #%%\n",
    "# type(tags_genome)\n",
    "\n",
    "# #%%\n",
    "# kmeans = KMeans(n_clusters=25)\n",
    "# kmeans.fit(tags_genome)\n",
    "\n",
    "# #%%\n",
    "# labels = kmeans.predict(tags_genome)\n",
    "# centroids = kmeans.cluster_centers_\n",
    "\n",
    "# #%%\n",
    "# fig = plt.figure(figsize=(5, 5))\n",
    "\n",
    "# # colors = map(lambda x: colmap[x+1], labels)\n",
    "\n",
    "# plt.scatter(tags_genome['movieId'], tags_genome['tagId'], alpha=0.5, edgecolor='k')\n",
    "# for idx, centroid in enumerate(centroids):\n",
    "#     plt.scatter(*centroid)\n",
    "# plt.xlim(0, 80)\n",
    "# plt.ylim(0, 80)\n",
    "# plt.show()\n"
   ]
  },
  {
   "cell_type": "code",
   "execution_count": 0,
   "metadata": {},
   "outputs": [],
   "source": [
    "# Due to the lack of computing power available to me, I settled for testing the concept\n",
    "# of using KMeans clustering on just one film to generate a cluster of most relevant tags\n",
    "movie_one_df = tags_genome[['tagId','relevance']].where(tags_genome['movieId'] == 1)\n"
   ]
  },
  {
   "cell_type": "code",
   "execution_count": 0,
   "metadata": {},
   "outputs": [],
   "source": [
    "movie_one_df.head()\n"
   ]
  },
  {
   "cell_type": "code",
   "execution_count": 0,
   "metadata": {},
   "outputs": [],
   "source": [
    "movie_one_df = movie_one_df.fillna(0)\n"
   ]
  },
  {
   "cell_type": "code",
   "execution_count": 0,
   "metadata": {},
   "outputs": [],
   "source": [
    "kmeans = KMeans(n_clusters=25)\n",
    "kmeans.fit(movie_one_df)\n"
   ]
  },
  {
   "cell_type": "code",
   "execution_count": 0,
   "metadata": {},
   "outputs": [],
   "source": [
    "labels = kmeans.predict(movie_one_df)\n",
    "centroids = kmeans.cluster_centers_\n"
   ]
  },
  {
   "cell_type": "code",
   "execution_count": 0,
   "metadata": {},
   "outputs": [],
   "source": [
    "fig = plt.figure(figsize=(5, 5))\n",
    "\n",
    "# colors = map(lambda x: colmap[x+1], labels)\n",
    "\n",
    "plt.scatter(movie_one_df['relevance'], movie_one_df['tagId'], alpha=0.5, edgecolor='k')\n",
    "for idx, centroid in enumerate(centroids):\n",
    "    plt.scatter(*centroid)\n",
    "plt.xlim(0, 80)\n",
    "plt.ylim(0, 80)\n",
    "plt.show()\n"
   ]
  },
  {
   "cell_type": "code",
   "execution_count": 0,
   "metadata": {},
   "outputs": [],
   "source": []
  }
 ],
 "metadata": {
  "file_extension": ".py",
  "kernelspec": {
   "display_name": "Python 3",
   "language": "python",
   "name": "python3"
  },
  "language_info": {
   "codemirror_mode": {
    "name": "ipython",
    "version": 3
   },
   "file_extension": ".py",
   "mimetype": "text/x-python",
   "name": "python",
   "nbconvert_exporter": "python",
   "pygments_lexer": "ipython3",
   "version": "3.7.3"
  },
  "mimetype": "text/x-python",
  "name": "python",
  "npconvert_exporter": "python",
  "pygments_lexer": "ipython3",
  "version": 3
 },
 "nbformat": 4,
 "nbformat_minor": 2
}
